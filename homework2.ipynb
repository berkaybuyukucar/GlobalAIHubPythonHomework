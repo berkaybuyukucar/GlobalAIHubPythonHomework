{
  "nbformat": 4,
  "nbformat_minor": 0,
  "metadata": {
    "colab": {
      "name": "Untitled3.ipynb",
      "provenance": []
    },
    "kernelspec": {
      "name": "python3",
      "display_name": "Python 3"
    }
  },
  "cells": [
    {
      "cell_type": "code",
      "metadata": {
        "colab": {
          "base_uri": "https://localhost:8080/"
        },
        "id": "7KEA4v1dSPAK",
        "outputId": "56fdffaa-5b66-4126-a16e-6913e61b4425"
      },
      "source": [
        "isim = input(\"Lütfen isminizi giriniz: \")\r\n",
        "soyadı = input(\"Lütfen soyadınızı giriniz: \")\r\n",
        "yaş = int(input(\"Lütfen yaşınızı giriniz: \"))\r\n",
        "doğum_tarihi = int(input(\"Lütfen doğum yılınızı giriniz: \"))"
      ],
      "execution_count": 2,
      "outputs": [
        {
          "output_type": "stream",
          "text": [
            "Lütfen isminizi giriniz: berkay\n",
            "Lütfen soyadınızı giriniz: büyükuçar\n",
            "Lütfen yaşınızı giriniz: 23\n",
            "Lütfen doğum yılınızı giriniz: 1997\n"
          ],
          "name": "stdout"
        }
      ]
    },
    {
      "cell_type": "code",
      "metadata": {
        "colab": {
          "base_uri": "https://localhost:8080/"
        },
        "id": "rSjhQRSxUnks",
        "outputId": "199d4f1b-6b91-4fb5-dfbb-52d047d101da"
      },
      "source": [
        "kullanıcı_bilgileri = [isim,soyadı,yaş,doğum_tarihi]\r\n",
        "for i in kullanıcı_bilgileri:\r\n",
        " print(i)"
      ],
      "execution_count": 37,
      "outputs": [
        {
          "output_type": "stream",
          "text": [
            "berkay\n",
            "büyükuçar\n",
            "23\n",
            "1997\n"
          ],
          "name": "stdout"
        }
      ]
    },
    {
      "cell_type": "code",
      "metadata": {
        "colab": {
          "base_uri": "https://localhost:8080/"
        },
        "id": "BurXQgZuW8D7",
        "outputId": "0ca489d5-287a-46f3-b474-33e77af96dfc"
      },
      "source": [
        " if yaş <= 18: \r\n",
        "   print(\"You can't go out because it's too dangerous\")\r\n",
        " else:\r\n",
        "     print(\"You can go out to the street.\")"
      ],
      "execution_count": 38,
      "outputs": [
        {
          "output_type": "stream",
          "text": [
            "You can go out to the street.\n"
          ],
          "name": "stdout"
        }
      ]
    },
    {
      "cell_type": "code",
      "metadata": {
        "id": "VQ2wvco_WsHJ"
      },
      "source": [
        ""
      ],
      "execution_count": null,
      "outputs": []
    },
    {
      "cell_type": "code",
      "metadata": {
        "id": "i9WyLoh2WXdX"
      },
      "source": [
        ""
      ],
      "execution_count": null,
      "outputs": []
    },
    {
      "cell_type": "code",
      "metadata": {
        "id": "f-eSwLCKWUk1"
      },
      "source": [
        ""
      ],
      "execution_count": null,
      "outputs": []
    },
    {
      "cell_type": "code",
      "metadata": {
        "id": "kz0tTyE1WRy5"
      },
      "source": [
        ""
      ],
      "execution_count": null,
      "outputs": []
    },
    {
      "cell_type": "code",
      "metadata": {
        "id": "18qmNlPyWJ3X"
      },
      "source": [
        ""
      ],
      "execution_count": null,
      "outputs": []
    },
    {
      "cell_type": "code",
      "metadata": {
        "id": "2xca3pLLWGlw"
      },
      "source": [
        ""
      ],
      "execution_count": null,
      "outputs": []
    },
    {
      "cell_type": "code",
      "metadata": {
        "id": "CabdLc9hVWMO"
      },
      "source": [
        ""
      ],
      "execution_count": null,
      "outputs": []
    },
    {
      "cell_type": "code",
      "metadata": {
        "id": "MW69B0lgVTOI"
      },
      "source": [
        ""
      ],
      "execution_count": null,
      "outputs": []
    },
    {
      "cell_type": "code",
      "metadata": {
        "id": "UArKWj9WVPZ8"
      },
      "source": [
        ""
      ],
      "execution_count": null,
      "outputs": []
    },
    {
      "cell_type": "code",
      "metadata": {
        "id": "9qGacQJ0U5Yh"
      },
      "source": [
        ""
      ],
      "execution_count": null,
      "outputs": []
    },
    {
      "cell_type": "code",
      "metadata": {
        "id": "E0gViEklU3PR"
      },
      "source": [
        ""
      ],
      "execution_count": null,
      "outputs": []
    },
    {
      "cell_type": "code",
      "metadata": {
        "id": "UwUivBC0Uz-d"
      },
      "source": [
        ""
      ],
      "execution_count": null,
      "outputs": []
    },
    {
      "cell_type": "code",
      "metadata": {
        "id": "vGGMAsf7UeFU"
      },
      "source": [
        ""
      ],
      "execution_count": null,
      "outputs": []
    }
  ]
}